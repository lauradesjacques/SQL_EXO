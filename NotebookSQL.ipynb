{
 "cells": [
  {
   "cell_type": "markdown",
   "id": "925458d5",
   "metadata": {},
   "source": [
    " <div style=\"display: flex, justify-content: center\"> \n",
    " <h1 style=\"text-align: center; padding: 2% ;border: solid; background-color:#1E68F1 ; font-size: 38px\">Exercice Requetes SQL</h1>\n",
    " </div>"
   ]
  },
  {
   "cell_type": "markdown",
   "id": "104cd39f",
   "metadata": {},
   "source": [
    "<div style=\"font-size: 16px\"> 1. Créer la base de donnée sous le nom de 'Boutique'</div>"
   ]
  },
  {
   "cell_type": "markdown",
   "id": "921b3810",
   "metadata": {},
   "source": [
    "<div style=\"color: #1E68F1 ; font-size: 17px; padding: 1%\">CREATE DATABASE IF NOT EXISTS Boutique ; </div>"
   ]
  },
  {
   "cell_type": "markdown",
   "id": "9021333d",
   "metadata": {},
   "source": [
    "<div style=\"font-size: 16px\"> 2. Création des tables (Manufacturers, Products)</div>"
   ]
  },
  {
   "cell_type": "markdown",
   "id": "083a64ef",
   "metadata": {},
   "source": [
    "<div style=\"color: #1E68F1 ; font-size: 17px; padding: 1%\">  CREATE TABLE Manufacturers ( Code INT PRIMARY KEY NOT NULL\n",
    "        AUTO_INCREMENT, Name VARCHAR(50) ); </div>"
   ]
  },
  {
   "cell_type": "markdown",
   "id": "0ef15188",
   "metadata": {},
   "source": [
    "<div style=\"font-size: 16px\"> 3. Inserer dans la table Manufacturers les valeurs</div>"
   ]
  },
  {
   "cell_type": "markdown",
   "id": "49b625dd",
   "metadata": {},
   "source": [
    "<div style=\"color: #1E68F1 ; font-size: 17px; padding: 1%\"> INSERT INTO `Manufacturers` (`Name`) VALUES ('Sony'); <br/>\n",
    "        INSERT INTO `Manufacturers` (`Name`) VALUES ('Creative Labs'); <br/>\n",
    "        INSERT INTO `Manufacturers` (`Name`) VALUES ('Hewlett-Packard');<br/>\n",
    "        INSERT INTO `Manufacturers` (`Name`) VALUES ('Lenovo');<br/>\n",
    "        INSERT INTO `Manufacturers` (`Name`) VALUES ('Winchester');<br/>\n",
    "        INSERT INTO `Manufacturers` (`Name`) VALUES ('Apple');<br/> </div>"
   ]
  },
  {
   "cell_type": "markdown",
   "id": "3fc07683",
   "metadata": {},
   "source": [
    "<div style=\"font-size: 16px\"> 4. Inserer dans la table Products les valeurs</div>"
   ]
  },
  {
   "cell_type": "markdown",
   "id": "bb123f4c",
   "metadata": {},
   "source": [
    "<div style=\"color: #1E68F1 ; font-size: 17px; padding: 1%\">\n",
    "        INSERT INTO `Products` (`Name`, `Price`, `ManuID`) VALUES ('Hard drive', '240','5');<br/>\n",
    "        INSERT INTO `Products` (`Name`, `Price`, `ManuID`) VALUES ('Memory', '120','6');<br/>\n",
    "        INSERT INTO `Products` (`Name`, `Price`, `ManuID`) VALUES ('ZIP drive', '150','4');<br/>\n",
    "        INSERT INTO `Products` (`Name`, `Price`, `ManuID`) VALUES ('Floppy Disk', '5','6');<br/>\n",
    "        INSERT INTO `Products` (`Name`, `Price`, `ManuID`) VALUES ('Monitor', '240','1');<br/>\n",
    "        INSERT INTO `Products` (`Name`, `Price`, `ManuID`) VALUES ('DVD drive', '180','2');<br/>\n",
    "        INSERT INTO `Products` (`Name`, `Price`, `ManuID`) VALUES ('CD drive', '90','2');<br/>\n",
    "        INSERT INTO `Products` (`Name`, `Price`, `ManuID`) VALUES ('Printer', '270','3');<br/>\n",
    "        INSERT INTO `Products` (`Name`, `Price`, `ManuID`) VALUES ('Toner cartridge', '66','3');<br/>\n",
    "        INSERT INTO `Products` (`Name`, `Price`, `ManuID`) VALUES ('DVD burner', '180','2');<br/>  </div>"
   ]
  },
  {
   "cell_type": "markdown",
   "id": "95dd06b7",
   "metadata": {},
   "source": [
    "<div style=\"font-size: 16px\"> 5. Selectionner le nom de tout les produits</div>"
   ]
  },
  {
   "cell_type": "markdown",
   "id": "8315de34",
   "metadata": {},
   "source": [
    "<div style=\"color: #1E68F1 ; font-size: 17px; padding: 1%\"> SELECT Name FROM Products; </div>"
   ]
  },
  {
   "cell_type": "markdown",
   "id": "66f41913",
   "metadata": {},
   "source": [
    "<div style=\"font-size: 16px\"> 6. Sélectionner les noms et les prix de tous les produits présents dans votre database</div>"
   ]
  },
  {
   "cell_type": "markdown",
   "id": "e4493f46",
   "metadata": {},
   "source": [
    "<div style=\"color: #1E68F1 ; font-size: 17px; padding: 1%\"> SELECT Name, Price FROM Products; </div>"
   ]
  },
  {
   "cell_type": "markdown",
   "id": "8490e036",
   "metadata": {},
   "source": [
    "<div style=\"font-size: 16px\"> 7. Sélectionner le nom des produits dont le prix est inférieur ou égal à 200€ </div>"
   ]
  },
  {
   "cell_type": "markdown",
   "id": "18304b3f",
   "metadata": {},
   "source": [
    "<div style=\"color: #1E68F1 ; font-size: 17px; padding: 1%\"> SELECT Name FROM Products WHERE Price <= 200; </div>"
   ]
  },
  {
   "cell_type": "markdown",
   "id": "ec3974b7",
   "metadata": {},
   "source": [
    "<div style=\"font-size: 16px\"> 8. Sélectionner tous les produits dont le prix est compris entre 50€ et 120€ </div>"
   ]
  },
  {
   "cell_type": "markdown",
   "id": "dd9a00ea",
   "metadata": {},
   "source": [
    "<div style=\"color: #1E68F1 ; font-size: 17px; padding: 1%\"> SELECT * FROM Products WHERE Price BETWEEN '50' AND '120'; </div>"
   ]
  },
  {
   "cell_type": "markdown",
   "id": "1fe4d2cd",
   "metadata": {},
   "source": [
    "<div style=\"font-size: 16px\"> 9. Sélectionner le nom et le prix en centimes (càd le prix doit être multiplié par 100)</div>"
   ]
  },
  {
   "cell_type": "markdown",
   "id": "c1829b51",
   "metadata": {},
   "source": [
    "<div style=\"color: #1E68F1 ; font-size: 17px; padding: 1%\"> SELECT Name, Price*100 AS PriceCents FROM Products; </div>"
   ]
  },
  {
   "cell_type": "markdown",
   "id": "f43f8359",
   "metadata": {},
   "source": [
    "<div style=\"font-size: 16px\"> 10. Calculer le prix moyen de tous les produits</div>"
   ]
  },
  {
   "cell_type": "markdown",
   "id": "981407f9",
   "metadata": {},
   "source": [
    "<div style=\"color: #1E68F1 ; font-size: 17px; padding: 1%\"> SELECT SUM(Price)/COUNT(Price) AS PriceMean FROM Products; </div>"
   ]
  },
  {
   "cell_type": "markdown",
   "id": "2b43e4c7",
   "metadata": {},
   "source": [
    "<div style=\"font-size: 16px\"> 11. Calculer le prix moyen de tous les produits dont le code fabriquant est égal à 2 </div>"
   ]
  },
  {
   "cell_type": "markdown",
   "id": "e7739389",
   "metadata": {},
   "source": [
    "<div style=\"color: #1E68F1 ; font-size: 17px; padding: 1%\"> SELECT SUM(Price)/COUNT(Price) AS PriceMean FROM Products WHERE ManuID = 2; </div>"
   ]
  },
  {
   "cell_type": "markdown",
   "id": "680549eb",
   "metadata": {},
   "source": [
    "<div style=\"font-size: 16px\"> 12. Calculer le nombre de produits dont le prix est supérieur ou égal à 180€</div>"
   ]
  },
  {
   "cell_type": "markdown",
   "id": "7aaa1c8e",
   "metadata": {},
   "source": [
    "<div style=\"color: #1E68F1 ; font-size: 17px; padding: 1%\"> SELECT COUNT(Price) AS nb_products FROM Products WHERE Price >= 180; </div>"
   ]
  },
  {
   "cell_type": "markdown",
   "id": "146ceed2",
   "metadata": {},
   "source": [
    "<div style=\"font-size: 16px\"> 13. Sélectionner le nom et le prix de tous les produits dont le prix est supérieur ou égal à 180€,et trier par prix par ordre décroissant puis nom par ordre croissant</div>"
   ]
  },
  {
   "cell_type": "markdown",
   "id": "c22c980f",
   "metadata": {},
   "source": [
    "<div style=\"color: #1E68F1 ; font-size: 17px; padding: 1%\"> SELECT Name, Price FROM Products WHERE Price >= 180 ORDER BY Price DESC, Name ASC;</div>"
   ]
  },
  {
   "cell_type": "markdown",
   "id": "65aac4e4",
   "metadata": {},
   "source": [
    "<div style=\"font-size: 16px\"> 14. Sélectionner toutes les données des produits y compris les données relatives aux fabricants</div>"
   ]
  },
  {
   "cell_type": "markdown",
   "id": "c9cd7043",
   "metadata": {},
   "source": [
    "<div style=\"color: #1E68F1 ; font-size: 17px; padding: 1%\"> SELECT * FROM Products JOIN Manufacturers ON Products.ManuID=Manufacturers.code; </div>"
   ]
  },
  {
   "cell_type": "markdown",
   "id": "5bb74a5e",
   "metadata": {},
   "source": [
    "<div style=\"font-size: 16px\">Je renomme les colonnes</div>"
   ]
  },
  {
   "cell_type": "markdown",
   "id": "ed8039bf",
   "metadata": {},
   "source": [
    "<div style=\"color: #1E68F1 ; font-size: 17px; padding: 1%\">  ALTER TABLE Products CHANGE Name NameP VARCHAR(50) ;\n",
    "        ALTER TABLE Manufacturers CHANGE Name NameM VARCHAR(50); </div>"
   ]
  },
  {
   "cell_type": "markdown",
   "id": "bc3bf7c2",
   "metadata": {},
   "source": [
    "<div style=\"font-size: 16px\"> 15. Sélectionner le nom du produit, le prix et le nom du fabriquant de tous les produits</div>"
   ]
  },
  {
   "cell_type": "markdown",
   "id": "9ced9487",
   "metadata": {},
   "source": [
    "<div style=\"color: #1E68F1 ; font-size: 17px; padding: 1%\"> SELECT NameP, Price, NameM FROM Products JOIN Manufacturers ON Products.ManuID=Manufacturers.code; </div>"
   ]
  },
  {
   "cell_type": "markdown",
   "id": "5d7a43eb",
   "metadata": {},
   "source": [
    "<div style=\"font-size: 16px\"> 16. Calculer le prix moyen des produits de chaque fabricant, en indiquant uniquement celui-ci par son code.</div>"
   ]
  },
  {
   "cell_type": "markdown",
   "id": "6395cff1",
   "metadata": {},
   "source": [
    "<div style=\"color: #1E68F1 ; font-size: 17px; padding: 1%\"> SELECT AVG(Price) AS MeanProduct, Manufacturers.Code FROM Products JOIN Manufacturers ON Products.ManuID=Manufacturers.code GROUP BY Manufacturers.Code; </div>"
   ]
  },
  {
   "cell_type": "markdown",
   "id": "29c5a857",
   "metadata": {},
   "source": [
    "<div style=\"font-size: 16px\"> 17. Calculer le prix maximum d'un produit vendu par fabriquant.</div>"
   ]
  },
  {
   "cell_type": "markdown",
   "id": "731ef48b",
   "metadata": {},
   "source": [
    "<div style=\"color: #1E68F1 ; font-size: 17px; padding: 1%\"> SELECT MAX(Price) AS MaxPrice, Manufacturers.NameM FROM Products JOIN Manufacturers ON Products.ManuID=Manufacturers.code GROUP BY Manufacturers.NameM ; </div>"
   ]
  },
  {
   "cell_type": "markdown",
   "id": "fb9b23ef",
   "metadata": {},
   "source": [
    "<div style=\"font-size: 16px\"> 18. Sélectionner les noms des fabricants dont les produits ont un prix moyen supérieur ou égal )150€ </div>"
   ]
  },
  {
   "cell_type": "markdown",
   "id": "33e2a3c1",
   "metadata": {},
   "source": [
    "<div style=\"color: #1E68F1 ; font-size: 17px; padding: 1%\"> SELECT Manufacturers.NameM FROM Products JOIN Manufacturers ON Products.ManuID=Manufacturers.code WHERE (SELECT AVG(Price) >= 150) GROUP BY Manufacturers.NameM; </div>"
   ]
  },
  {
   "cell_type": "markdown",
   "id": "0fc37533",
   "metadata": {},
   "source": [
    "<div style=\"font-size: 16px\"> 19. Sélectionner les noms et les prix du produit le moins cher et le plus cher</div>"
   ]
  },
  {
   "cell_type": "markdown",
   "id": "bbe4611f",
   "metadata": {},
   "source": [
    "<div style=\"color: #1E68F1 ; font-size: 17px; padding: 1%\"> SELECT NameP, Price FROM Products WHERE price IN ((SELECT MIN(Price) FROM Products),( SELECT MAX(Price)FROM Products)) ; </div>"
   ]
  },
  {
   "cell_type": "markdown",
   "id": "ffb39570",
   "metadata": {},
   "source": [
    "<div style=\"font-size: 16px\"> 20. Ajouter un nouveau produit : Loudspeakers, 70€, manufacturer 2</div>"
   ]
  },
  {
   "cell_type": "markdown",
   "id": "d3c57250",
   "metadata": {},
   "source": [
    "<div style=\"color: #1E68F1 ; font-size: 17px; padding: 1%\"> INSERT INTO `Products` (`NameP`, `Price`, `ManuID`) VALUES ('Loudspeakers', '70','2'); </div>"
   ]
  },
  {
   "cell_type": "markdown",
   "id": "9bed9783",
   "metadata": {},
   "source": [
    "<div style=\"font-size: 16px\"> 21. Mettre à jour le nom du produit 8 en « Laser Print »</div>"
   ]
  },
  {
   "cell_type": "markdown",
   "id": "4d10b1de",
   "metadata": {},
   "source": [
    "<div style=\"color: #1E68F1 ; font-size: 17px; padding: 1%\"> UPDATE Products SET NameP='Laser Print' WHERE Code=8; </div>"
   ]
  },
  {
   "cell_type": "markdown",
   "id": "efdcfdf5",
   "metadata": {},
   "source": [
    "<div style=\"font-size: 16px\"> 22. Appliquer une remise de 10% à tous les produits et stocker ce résultat dans une nouvelle colonne de la table</div>"
   ]
  },
  {
   "cell_type": "markdown",
   "id": "2ab3cc7d",
   "metadata": {},
   "source": [
    "<div style=\"color: #1E68F1 ; font-size: 17px; padding: 1%\"> ALTER TABLE Products ADD Remise FLOAT;\n",
    "        UPDATE Products SET Remise = Price*0.90; \n",
    "    <p  style=\"color: black\"><i>Pensez à decocher safe update dans preferences SQL </i></p>\n",
    "</div>\n"
   ]
  },
  {
   "cell_type": "markdown",
   "id": "785b82c5",
   "metadata": {},
   "source": [
    "<div style=\"font-size: 16px\"> 23. Appliquer une remise de 10% à tous les produits dont le prix est supérieur ou égal à 120€</div>"
   ]
  },
  {
   "cell_type": "markdown",
   "id": "9fdd9fa0",
   "metadata": {},
   "source": [
    "<div style=\"color: #1E68F1 ; font-size: 17px; padding: 1%\"> UPDATE Products SET Remise = Price*0.90 WHERE Price >= 120; </div>"
   ]
  }
 ],
 "metadata": {
  "kernelspec": {
   "display_name": "Python 3 (ipykernel)",
   "language": "python",
   "name": "python3"
  },
  "language_info": {
   "codemirror_mode": {
    "name": "ipython",
    "version": 3
   },
   "file_extension": ".py",
   "mimetype": "text/x-python",
   "name": "python",
   "nbconvert_exporter": "python",
   "pygments_lexer": "ipython3",
   "version": "3.10.6"
  },
  "toc": {
   "base_numbering": 1,
   "nav_menu": {},
   "number_sections": true,
   "sideBar": true,
   "skip_h1_title": false,
   "title_cell": "Table of Contents",
   "title_sidebar": "Contents",
   "toc_cell": false,
   "toc_position": {},
   "toc_section_display": true,
   "toc_window_display": false
  }
 },
 "nbformat": 4,
 "nbformat_minor": 5
}
